{
  "cells": [
    {
      "cell_type": "markdown",
      "metadata": {
        "id": "view-in-github",
        "colab_type": "text"
      },
      "source": [
        "<a href=\"https://colab.research.google.com/github/i-nitishh/Machine-Learning/blob/main/Linear_Regression.ipynb\" target=\"_parent\"><img src=\"https://colab.research.google.com/assets/colab-badge.svg\" alt=\"Open In Colab\"/></a>"
      ]
    },
    {
      "cell_type": "code",
      "execution_count": null,
      "id": "d3f8ea7a",
      "metadata": {
        "id": "d3f8ea7a"
      },
      "outputs": [],
      "source": [
        "import pandas as pd\n",
        "import numpy as np\n",
        "import matplotlib.pyplot as plt\n",
        "import seaborn as sns\n",
        "%matplotlib inline"
      ]
    },
    {
      "cell_type": "code",
      "execution_count": null,
      "id": "69910d87",
      "metadata": {
        "id": "69910d87"
      },
      "outputs": [],
      "source": [
        "df = pd.read_csv('C:\\\\Users\\\\Nitish\\\\Downloads\\\\Advertising.csv')"
      ]
    },
    {
      "cell_type": "code",
      "execution_count": null,
      "id": "65dc8f6e",
      "metadata": {
        "id": "65dc8f6e",
        "outputId": "661288b0-e6cc-450d-8ba6-45841ceef3c7"
      },
      "outputs": [
        {
          "data": {
            "text/html": [
              "<div>\n",
              "<style scoped>\n",
              "    .dataframe tbody tr th:only-of-type {\n",
              "        vertical-align: middle;\n",
              "    }\n",
              "\n",
              "    .dataframe tbody tr th {\n",
              "        vertical-align: top;\n",
              "    }\n",
              "\n",
              "    .dataframe thead th {\n",
              "        text-align: right;\n",
              "    }\n",
              "</style>\n",
              "<table border=\"1\" class=\"dataframe\">\n",
              "  <thead>\n",
              "    <tr style=\"text-align: right;\">\n",
              "      <th></th>\n",
              "      <th>TV</th>\n",
              "      <th>radio</th>\n",
              "      <th>newspaper</th>\n",
              "      <th>sales</th>\n",
              "    </tr>\n",
              "  </thead>\n",
              "  <tbody>\n",
              "    <tr>\n",
              "      <th>0</th>\n",
              "      <td>230100</td>\n",
              "      <td>37800</td>\n",
              "      <td>69200</td>\n",
              "      <td>22100</td>\n",
              "    </tr>\n",
              "    <tr>\n",
              "      <th>1</th>\n",
              "      <td>44500</td>\n",
              "      <td>39300</td>\n",
              "      <td>45100</td>\n",
              "      <td>10400</td>\n",
              "    </tr>\n",
              "    <tr>\n",
              "      <th>2</th>\n",
              "      <td>17200</td>\n",
              "      <td>45900</td>\n",
              "      <td>69300</td>\n",
              "      <td>9300</td>\n",
              "    </tr>\n",
              "    <tr>\n",
              "      <th>3</th>\n",
              "      <td>151500</td>\n",
              "      <td>41300</td>\n",
              "      <td>58500</td>\n",
              "      <td>18500</td>\n",
              "    </tr>\n",
              "    <tr>\n",
              "      <th>4</th>\n",
              "      <td>180800</td>\n",
              "      <td>10800</td>\n",
              "      <td>58400</td>\n",
              "      <td>12900</td>\n",
              "    </tr>\n",
              "  </tbody>\n",
              "</table>\n",
              "</div>"
            ],
            "text/plain": [
              "       TV  radio  newspaper  sales\n",
              "0  230100  37800      69200  22100\n",
              "1   44500  39300      45100  10400\n",
              "2   17200  45900      69300   9300\n",
              "3  151500  41300      58500  18500\n",
              "4  180800  10800      58400  12900"
            ]
          },
          "execution_count": 4,
          "metadata": {},
          "output_type": "execute_result"
        }
      ],
      "source": [
        "df.head()"
      ]
    },
    {
      "cell_type": "code",
      "execution_count": null,
      "id": "e3d74f95",
      "metadata": {
        "id": "e3d74f95",
        "outputId": "053c6fcf-24be-4279-d402-4799098c333c"
      },
      "outputs": [
        {
          "data": {
            "text/plain": [
              "TV           0\n",
              "radio        0\n",
              "newspaper    0\n",
              "sales        0\n",
              "dtype: int64"
            ]
          },
          "execution_count": 5,
          "metadata": {},
          "output_type": "execute_result"
        }
      ],
      "source": [
        "df.isna().sum()"
      ]
    },
    {
      "cell_type": "code",
      "execution_count": null,
      "id": "a98c2ebc",
      "metadata": {
        "id": "a98c2ebc",
        "outputId": "b40ed5ce-50bb-4266-81ee-f7f5bd433fc4"
      },
      "outputs": [
        {
          "data": {
            "text/plain": [
              "TV          -0.069853\n",
              "radio        0.094175\n",
              "newspaper    0.894720\n",
              "sales        0.407571\n",
              "dtype: float64"
            ]
          },
          "execution_count": 6,
          "metadata": {},
          "output_type": "execute_result"
        }
      ],
      "source": [
        "df.skew()"
      ]
    },
    {
      "cell_type": "code",
      "execution_count": null,
      "id": "cafc3767",
      "metadata": {
        "id": "cafc3767",
        "outputId": "5b00d55d-aa3b-4faa-9a39-b6a0bbc9a3b6"
      },
      "outputs": [
        {
          "data": {
            "text/plain": [
              "<seaborn.axisgrid.PairGrid at 0x210c2416130>"
            ]
          },
          "execution_count": 7,
          "metadata": {},
          "output_type": "execute_result"
        },
        {
          "data": {
            "image/png": "[encoded data removed]",
            "text/plain": [
              "<Figure size 1000x1000 with 20 Axes>"
            ]
          },
          "metadata": {},
          "output_type": "display_data"
        }
      ],
      "source": [
        "sns.pairplot(df)"
      ]
    },
    {
      "cell_type": "code",
      "execution_count": null,
      "id": "8365e626",
      "metadata": {
        "id": "8365e626",
        "outputId": "80bf0366-a800-489b-9a2a-88ee8e28d753"
      },
      "outputs": [
        {
          "data": {
            "text/html": [
              "<div>\n",
              "<style scoped>\n",
              "    .dataframe tbody tr th:only-of-type {\n",
              "        vertical-align: middle;\n",
              "    }\n",
              "\n",
              "    .dataframe tbody tr th {\n",
              "        vertical-align: top;\n",
              "    }\n",
              "\n",
              "    .dataframe thead th {\n",
              "        text-align: right;\n",
              "    }\n",
              "</style>\n",
              "<table border=\"1\" class=\"dataframe\">\n",
              "  <thead>\n",
              "    <tr style=\"text-align: right;\">\n",
              "      <th></th>\n",
              "      <th>TV</th>\n",
              "      <th>radio</th>\n",
              "      <th>newspaper</th>\n",
              "      <th>sales</th>\n",
              "    </tr>\n",
              "  </thead>\n",
              "  <tbody>\n",
              "    <tr>\n",
              "      <th>TV</th>\n",
              "      <td>1.000000</td>\n",
              "      <td>0.054809</td>\n",
              "      <td>0.056648</td>\n",
              "      <td>0.782224</td>\n",
              "    </tr>\n",
              "    <tr>\n",
              "      <th>radio</th>\n",
              "      <td>0.054809</td>\n",
              "      <td>1.000000</td>\n",
              "      <td>0.354104</td>\n",
              "      <td>0.576223</td>\n",
              "    </tr>\n",
              "    <tr>\n",
              "      <th>newspaper</th>\n",
              "      <td>0.056648</td>\n",
              "      <td>0.354104</td>\n",
              "      <td>1.000000</td>\n",
              "      <td>0.228299</td>\n",
              "    </tr>\n",
              "    <tr>\n",
              "      <th>sales</th>\n",
              "      <td>0.782224</td>\n",
              "      <td>0.576223</td>\n",
              "      <td>0.228299</td>\n",
              "      <td>1.000000</td>\n",
              "    </tr>\n",
              "  </tbody>\n",
              "</table>\n",
              "</div>"
            ],
            "text/plain": [
              "                 TV     radio  newspaper     sales\n",
              "TV         1.000000  0.054809   0.056648  0.782224\n",
              "radio      0.054809  1.000000   0.354104  0.576223\n",
              "newspaper  0.056648  0.354104   1.000000  0.228299\n",
              "sales      0.782224  0.576223   0.228299  1.000000"
            ]
          },
          "execution_count": 8,
          "metadata": {},
          "output_type": "execute_result"
        }
      ],
      "source": [
        "df.corr()"
      ]
    },
    {
      "cell_type": "markdown",
      "id": "aec3dd73",
      "metadata": {
        "id": "aec3dd73"
      },
      "source": [
        "Multiple Linear Regression"
      ]
    },
    {
      "cell_type": "code",
      "execution_count": null,
      "id": "c77e48d1",
      "metadata": {
        "id": "c77e48d1"
      },
      "outputs": [],
      "source": [
        "from sklearn.linear_model import LinearRegression"
      ]
    },
    {
      "cell_type": "code",
      "execution_count": null,
      "id": "94b0494a",
      "metadata": {
        "id": "94b0494a",
        "outputId": "d7a64885-3ad1-426e-8bf5-610a1cd8c216"
      },
      "outputs": [
        {
          "name": "stdout",
          "output_type": "stream",
          "text": [
            "         TV  radio\n",
            "0    230100  37800\n",
            "1     44500  39300\n",
            "2     17200  45900\n",
            "3    151500  41300\n",
            "4    180800  10800\n",
            "..      ...    ...\n",
            "195   38200   3700\n",
            "196   94200   4900\n",
            "197  177000   9300\n",
            "198  283600  42000\n",
            "199  232100   8600\n",
            "\n",
            "[200 rows x 2 columns] 0      22100\n",
            "1      10400\n",
            "2       9300\n",
            "3      18500\n",
            "4      12900\n",
            "       ...  \n",
            "195     7600\n",
            "196     9700\n",
            "197    12800\n",
            "198    25500\n",
            "199    13400\n",
            "Name: sales, Length: 200, dtype: int64\n"
          ]
        }
      ],
      "source": [
        "x = df.drop(columns = ['sales','newspaper'])\n",
        "y = df['sales']\n",
        "print(x,y)"
      ]
    },
    {
      "cell_type": "code",
      "execution_count": null,
      "id": "b0a7abbf",
      "metadata": {
        "id": "b0a7abbf"
      },
      "outputs": [],
      "source": [
        "from sklearn.model_selection import train_test_split"
      ]
    },
    {
      "cell_type": "code",
      "execution_count": null,
      "id": "3f7836c2",
      "metadata": {
        "id": "3f7836c2"
      },
      "outputs": [],
      "source": [
        "x_train,x_test,y_train,y_test = train_test_split(x,y,test_size = 0.2 , random_state=9)"
      ]
    },
    {
      "cell_type": "code",
      "execution_count": null,
      "id": "4e8519f7",
      "metadata": {
        "id": "4e8519f7",
        "outputId": "29194ece-3c9f-44d2-d8a5-a25ca344ded0"
      },
      "outputs": [
        {
          "data": {
            "text/plain": [
              "LinearRegression()"
            ]
          },
          "execution_count": 13,
          "metadata": {},
          "output_type": "execute_result"
        }
      ],
      "source": [
        "lr = LinearRegression()\n",
        "lr.fit(x_train,y_train)"
      ]
    },
    {
      "cell_type": "code",
      "execution_count": null,
      "id": "2274df65",
      "metadata": {
        "id": "2274df65",
        "outputId": "9b595dc1-00f0-4905-c0d9-6cf91aa3ab3d"
      },
      "outputs": [
        {
          "data": {
            "text/plain": [
              "2957.3621138207127"
            ]
          },
          "execution_count": 14,
          "metadata": {},
          "output_type": "execute_result"
        }
      ],
      "source": [
        "lr.intercept_"
      ]
    },
    {
      "cell_type": "code",
      "execution_count": null,
      "id": "81deb734",
      "metadata": {
        "id": "81deb734",
        "outputId": "6477dcf8-17c9-4512-df1f-910c67cc143a"
      },
      "outputs": [
        {
          "data": {
            "text/plain": [
              "array([0.04565331, 0.18718911])"
            ]
          },
          "execution_count": 15,
          "metadata": {},
          "output_type": "execute_result"
        }
      ],
      "source": [
        "lr.coef_"
      ]
    },
    {
      "cell_type": "code",
      "execution_count": null,
      "id": "5e803632",
      "metadata": {
        "id": "5e803632"
      },
      "outputs": [],
      "source": [
        "y_predict = lr.predict(x_test)"
      ]
    },
    {
      "cell_type": "code",
      "execution_count": null,
      "id": "abd8c740",
      "metadata": {
        "id": "abd8c740",
        "outputId": "3cb058fa-6eb0-4775-bab1-b8ad394704a3"
      },
      "outputs": [
        {
          "data": {
            "text/plain": [
              "0.8897265958178805"
            ]
          },
          "execution_count": 17,
          "metadata": {},
          "output_type": "execute_result"
        }
      ],
      "source": [
        "lr.score(x_train,y_train)"
      ]
    },
    {
      "cell_type": "code",
      "execution_count": null,
      "id": "7a87479e",
      "metadata": {
        "id": "7a87479e",
        "outputId": "a53b8e37-a340-41fa-cf45-c8710f3bbf2b"
      },
      "outputs": [
        {
          "data": {
            "text/plain": [
              "0.9258743223517101"
            ]
          },
          "execution_count": 18,
          "metadata": {},
          "output_type": "execute_result"
        }
      ],
      "source": [
        "lr.score(x_test,y_test)"
      ]
    },
    {
      "cell_type": "code",
      "execution_count": null,
      "id": "99d16cad",
      "metadata": {
        "id": "99d16cad"
      },
      "outputs": [],
      "source": [
        "from sklearn.model_selection import cross_val_score"
      ]
    },
    {
      "cell_type": "code",
      "execution_count": null,
      "id": "d0cdb5f3",
      "metadata": {
        "id": "d0cdb5f3",
        "outputId": "89dbd331-03ee-4eff-b388-8689ad7276c1"
      },
      "outputs": [
        {
          "data": {
            "text/plain": [
              "0.8839789119628069"
            ]
          },
          "execution_count": 20,
          "metadata": {},
          "output_type": "execute_result"
        }
      ],
      "source": [
        "cross_val_score(lr,x,y,cv=9).mean()"
      ]
    },
    {
      "cell_type": "code",
      "execution_count": null,
      "id": "2e8feb85",
      "metadata": {
        "id": "2e8feb85"
      },
      "outputs": [],
      "source": [
        "#### Validiation for above model"
      ]
    },
    {
      "cell_type": "code",
      "execution_count": null,
      "id": "2474cfbd",
      "metadata": {
        "id": "2474cfbd",
        "outputId": "dff42617-fe15-4e65-a544-c7155a1a33e2"
      },
      "outputs": [
        {
          "data": {
            "text/html": [
              "<table class=\"simpletable\">\n",
              "<caption>OLS Regression Results</caption>\n",
              "<tr>\n",
              "  <th>Dep. Variable:</th>          <td>sales</td>      <th>  R-squared:         </th> <td>   0.897</td>\n",
              "</tr>\n",
              "<tr>\n",
              "  <th>Model:</th>                   <td>OLS</td>       <th>  Adj. R-squared:    </th> <td>   0.896</td>\n",
              "</tr>\n",
              "<tr>\n",
              "  <th>Method:</th>             <td>Least Squares</td>  <th>  F-statistic:       </th> <td>   859.6</td>\n",
              "</tr>\n",
              "<tr>\n",
              "  <th>Date:</th>             <td>Mon, 24 Apr 2023</td> <th>  Prob (F-statistic):</th> <td>4.83e-98</td>\n",
              "</tr>\n",
              "<tr>\n",
              "  <th>Time:</th>                 <td>13:49:06</td>     <th>  Log-Likelihood:    </th> <td> -1767.7</td>\n",
              "</tr>\n",
              "<tr>\n",
              "  <th>No. Observations:</th>      <td>   200</td>      <th>  AIC:               </th> <td>   3541.</td>\n",
              "</tr>\n",
              "<tr>\n",
              "  <th>Df Residuals:</th>          <td>   197</td>      <th>  BIC:               </th> <td>   3551.</td>\n",
              "</tr>\n",
              "<tr>\n",
              "  <th>Df Model:</th>              <td>     2</td>      <th>                     </th>     <td> </td>   \n",
              "</tr>\n",
              "<tr>\n",
              "  <th>Covariance Type:</th>      <td>nonrobust</td>    <th>                     </th>     <td> </td>   \n",
              "</tr>\n",
              "</table>\n",
              "<table class=\"simpletable\">\n",
              "<tr>\n",
              "    <td></td>       <th>coef</th>     <th>std err</th>      <th>t</th>      <th>P>|t|</th>  <th>[0.025</th>    <th>0.975]</th>  \n",
              "</tr>\n",
              "<tr>\n",
              "  <th>const</th> <td> 2921.0999</td> <td>  294.490</td> <td>    9.919</td> <td> 0.000</td> <td> 2340.343</td> <td> 3501.857</td>\n",
              "</tr>\n",
              "<tr>\n",
              "  <th>TV</th>    <td>    0.0458</td> <td>    0.001</td> <td>   32.909</td> <td> 0.000</td> <td>    0.043</td> <td>    0.048</td>\n",
              "</tr>\n",
              "<tr>\n",
              "  <th>radio</th> <td>    0.1880</td> <td>    0.008</td> <td>   23.382</td> <td> 0.000</td> <td>    0.172</td> <td>    0.204</td>\n",
              "</tr>\n",
              "</table>\n",
              "<table class=\"simpletable\">\n",
              "<tr>\n",
              "  <th>Omnibus:</th>       <td>60.022</td> <th>  Durbin-Watson:     </th> <td>   2.081</td>\n",
              "</tr>\n",
              "<tr>\n",
              "  <th>Prob(Omnibus):</th> <td> 0.000</td> <th>  Jarque-Bera (JB):  </th> <td> 148.679</td>\n",
              "</tr>\n",
              "<tr>\n",
              "  <th>Skew:</th>          <td>-1.323</td> <th>  Prob(JB):          </th> <td>5.19e-33</td>\n",
              "</tr>\n",
              "<tr>\n",
              "  <th>Kurtosis:</th>      <td> 6.292</td> <th>  Cond. No.          </th> <td>4.25e+05</td>\n",
              "</tr>\n",
              "</table><br/><br/>Notes:<br/>[1] Standard Errors assume that the covariance matrix of the errors is correctly specified.<br/>[2] The condition number is large, 4.25e+05. This might indicate that there are<br/>strong multicollinearity or other numerical problems."
            ],
            "text/plain": [
              "<class 'statsmodels.iolib.summary.Summary'>\n",
              "\"\"\"\n",
              "                            OLS Regression Results                            \n",
              "==============================================================================\n",
              "Dep. Variable:                  sales   R-squared:                       0.897\n",
              "Model:                            OLS   Adj. R-squared:                  0.896\n",
              "Method:                 Least Squares   F-statistic:                     859.6\n",
              "Date:                Mon, 24 Apr 2023   Prob (F-statistic):           4.83e-98\n",
              "Time:                        13:49:06   Log-Likelihood:                -1767.7\n",
              "No. Observations:                 200   AIC:                             3541.\n",
              "Df Residuals:                     197   BIC:                             3551.\n",
              "Df Model:                           2                                         \n",
              "Covariance Type:            nonrobust                                         \n",
              "==============================================================================\n",
              "                 coef    std err          t      P>|t|      [0.025      0.975]\n",
              "------------------------------------------------------------------------------\n",
              "const       2921.0999    294.490      9.919      0.000    2340.343    3501.857\n",
              "TV             0.0458      0.001     32.909      0.000       0.043       0.048\n",
              "radio          0.1880      0.008     23.382      0.000       0.172       0.204\n",
              "==============================================================================\n",
              "Omnibus:                       60.022   Durbin-Watson:                   2.081\n",
              "Prob(Omnibus):                  0.000   Jarque-Bera (JB):              148.679\n",
              "Skew:                          -1.323   Prob(JB):                     5.19e-33\n",
              "Kurtosis:                       6.292   Cond. No.                     4.25e+05\n",
              "==============================================================================\n",
              "\n",
              "Notes:\n",
              "[1] Standard Errors assume that the covariance matrix of the errors is correctly specified.\n",
              "[2] The condition number is large, 4.25e+05. This might indicate that there are\n",
              "strong multicollinearity or other numerical problems.\n",
              "\"\"\""
            ]
          },
          "execution_count": 22,
          "metadata": {},
          "output_type": "execute_result"
        }
      ],
      "source": [
        "import statsmodels.api as sm\n",
        "x_new = sm.add_constant(x)\n",
        "model = sm.OLS(y,x_new).fit()\n",
        "model.summary()"
      ]
    },
    {
      "cell_type": "markdown",
      "id": "3fe5a22b",
      "metadata": {
        "id": "3fe5a22b"
      },
      "source": [
        "In above table we can see that p value of newspaper column is more than 0.05 so we gonna remove this\n",
        "feature from our model"
      ]
    },
    {
      "cell_type": "code",
      "execution_count": null,
      "id": "9ef078b0",
      "metadata": {
        "id": "9ef078b0"
      },
      "outputs": [],
      "source": [
        "#### checking normality of error"
      ]
    },
    {
      "cell_type": "code",
      "execution_count": null,
      "id": "f6d98136",
      "metadata": {
        "id": "f6d98136"
      },
      "outputs": [],
      "source": [
        "error =y_test-y_predict"
      ]
    },
    {
      "cell_type": "code",
      "execution_count": null,
      "id": "b376d0c7",
      "metadata": {
        "id": "b376d0c7",
        "outputId": "05862307-b932-4fb6-e43e-f5a5bb6c5f33"
      },
      "outputs": [
        {
          "data": {
            "text/plain": [
              "84      946.524668\n",
              "60     2325.807653\n",
              "54     -141.532716\n",
              "109     147.395751\n",
              "156     -86.934183\n",
              "140    1409.470124\n",
              "39     1076.653990\n",
              "116     210.893024\n",
              "123     145.972308\n",
              "53     1258.206743\n",
              "103     -55.271530\n",
              "101     516.032441\n",
              "158   -3098.784076\n",
              "3       895.251291\n",
              "100   -2215.571124\n",
              "27    -1144.779681\n",
              "163     689.762594\n",
              "174   -2247.100923\n",
              "37     -914.806422\n",
              "69     1227.398549\n",
              "131   -2907.467973\n",
              "196    1524.869567\n",
              "190   -1654.140327\n",
              "23    -1043.508462\n",
              "198    1733.416850\n",
              "17     1183.107999\n",
              "32     1924.352624\n",
              "31      531.288791\n",
              "77      406.524497\n",
              "20     -113.183122\n",
              "9     -1965.584859\n",
              "80      356.775807\n",
              "135   -2360.305206\n",
              "30     -226.668078\n",
              "38      177.030983\n",
              "134   -1067.468943\n",
              "26       34.139095\n",
              "151    1546.199004\n",
              "44     -414.020351\n",
              "13      868.803045\n",
              "Name: sales, dtype: float64"
            ]
          },
          "execution_count": 25,
          "metadata": {},
          "output_type": "execute_result"
        }
      ],
      "source": [
        "error"
      ]
    },
    {
      "cell_type": "code",
      "execution_count": null,
      "id": "5c71cf30",
      "metadata": {
        "id": "5c71cf30",
        "outputId": "be9d3693-8701-47fa-e933-393537abc884"
      },
      "outputs": [
        {
          "data": {
            "text/plain": [
              "<seaborn.axisgrid.FacetGrid at 0x210c6181a90>"
            ]
          },
          "execution_count": 26,
          "metadata": {},
          "output_type": "execute_result"
        },
        {
          "data": {
            "image/png": "[encoded data removed]",
            "text/plain": [
              "<Figure size 500x500 with 1 Axes>"
            ]
          },
          "metadata": {},
          "output_type": "display_data"
        }
      ],
      "source": [
        "sns.displot(error,kde=True)"
      ]
    },
    {
      "cell_type": "code",
      "execution_count": null,
      "id": "421f7d45",
      "metadata": {
        "id": "421f7d45",
        "outputId": "a286ab3c-f344-4dec-e2b5-d5ef83435b6b"
      },
      "outputs": [
        {
          "data": {
            "text/plain": [
              "<matplotlib.lines.Line2D at 0x210c61f7e50>"
            ]
          },
          "execution_count": 27,
          "metadata": {},
          "output_type": "execute_result"
        },
        {
          "data": {
            "image/png": "[encoded data removed]",
            "text/plain": [
              "<Figure size 640x480 with 1 Axes>"
            ]
          },
          "metadata": {},
          "output_type": "display_data"
        }
      ],
      "source": [
        "plt.scatter(y_predict,error)\n",
        "plt.axhline(y=0)"
      ]
    },
    {
      "cell_type": "markdown",
      "id": "64bca0a3",
      "metadata": {
        "id": "64bca0a3"
      },
      "source": [
        "Lasso Regression"
      ]
    },
    {
      "cell_type": "code",
      "execution_count": null,
      "id": "498c1f30",
      "metadata": {
        "id": "498c1f30"
      },
      "outputs": [],
      "source": [
        "from sklearn.linear_model import Lasso"
      ]
    },
    {
      "cell_type": "code",
      "execution_count": null,
      "id": "1a0f67eb",
      "metadata": {
        "id": "1a0f67eb"
      },
      "outputs": [],
      "source": [
        "lasso = Lasso()"
      ]
    },
    {
      "cell_type": "code",
      "execution_count": null,
      "id": "d1db759d",
      "metadata": {
        "id": "d1db759d",
        "outputId": "62c79d3e-b2af-41eb-8cc5-016d6b7817a2"
      },
      "outputs": [
        {
          "data": {
            "text/plain": [
              "Lasso()"
            ]
          },
          "execution_count": 30,
          "metadata": {},
          "output_type": "execute_result"
        }
      ],
      "source": [
        "lasso.fit(x_train,y_train)"
      ]
    },
    {
      "cell_type": "code",
      "execution_count": null,
      "id": "325c284c",
      "metadata": {
        "id": "325c284c",
        "outputId": "877eeef4-27ff-4919-d35c-93a81f18dba5"
      },
      "outputs": [
        {
          "data": {
            "text/plain": [
              "0.8897265958178804"
            ]
          },
          "execution_count": 31,
          "metadata": {},
          "output_type": "execute_result"
        }
      ],
      "source": [
        "lasso.score(x_train,y_train)"
      ]
    },
    {
      "cell_type": "code",
      "execution_count": null,
      "id": "841b9b8e",
      "metadata": {
        "id": "841b9b8e",
        "outputId": "aae8d34e-74c3-4d99-c703-3b571d8b42ae"
      },
      "outputs": [
        {
          "data": {
            "text/plain": [
              "0.9258743220521203"
            ]
          },
          "execution_count": 32,
          "metadata": {},
          "output_type": "execute_result"
        }
      ],
      "source": [
        "lasso.score(x_test,y_test)"
      ]
    },
    {
      "cell_type": "code",
      "execution_count": null,
      "id": "b6c974e3",
      "metadata": {
        "id": "b6c974e3"
      },
      "outputs": [],
      "source": [
        "#### Doing HyperParameter Tunning"
      ]
    },
    {
      "cell_type": "code",
      "execution_count": null,
      "id": "579920b9",
      "metadata": {
        "id": "579920b9"
      },
      "outputs": [],
      "source": [
        "from sklearn.model_selection import GridSearchCV"
      ]
    },
    {
      "cell_type": "code",
      "execution_count": null,
      "id": "33a18171",
      "metadata": {
        "id": "33a18171"
      },
      "outputs": [],
      "source": [
        "param_grid = {'alpha':[0.01,0.1,0.5,1,2,4,5,20,40,50,100]}\n",
        "model = GridSearchCV(Lasso(),param_grid,cv=9,scoring = 'neg_mean_squared_error')"
      ]
    },
    {
      "cell_type": "code",
      "execution_count": null,
      "id": "3b9b43b0",
      "metadata": {
        "id": "3b9b43b0",
        "outputId": "ceaa1d5d-392c-4a11-cabd-40dc15a2be07"
      },
      "outputs": [
        {
          "data": {
            "text/plain": [
              "GridSearchCV(cv=9, estimator=Lasso(),\n",
              "             param_grid={'alpha': [0.01, 0.1, 0.5, 1, 2, 4, 5, 20, 40, 50,\n",
              "                                   100]},\n",
              "             scoring='neg_mean_squared_error')"
            ]
          },
          "execution_count": 42,
          "metadata": {},
          "output_type": "execute_result"
        }
      ],
      "source": [
        "model.fit(x_train,y_train)"
      ]
    },
    {
      "cell_type": "code",
      "execution_count": null,
      "id": "a592e974",
      "metadata": {
        "id": "a592e974",
        "outputId": "f478c811-c9d4-4136-9da8-54d98f3c3ff1"
      },
      "outputs": [
        {
          "data": {
            "text/plain": [
              "{'alpha': 2}"
            ]
          },
          "execution_count": 43,
          "metadata": {},
          "output_type": "execute_result"
        }
      ],
      "source": [
        "model.best_params_"
      ]
    },
    {
      "cell_type": "code",
      "execution_count": null,
      "id": "16a4f5e3",
      "metadata": {
        "id": "16a4f5e3"
      },
      "outputs": [],
      "source": [
        "#### Making HyperTuned Model"
      ]
    },
    {
      "cell_type": "code",
      "execution_count": null,
      "id": "2be7a14c",
      "metadata": {
        "id": "2be7a14c",
        "outputId": "a4b17d02-5c95-4ec0-a8c8-4df6314aa27a"
      },
      "outputs": [
        {
          "data": {
            "text/plain": [
              "Lasso(alpha=2)"
            ]
          },
          "execution_count": 45,
          "metadata": {},
          "output_type": "execute_result"
        }
      ],
      "source": [
        "lasso = Lasso(alpha = 2)\n",
        "lasso.fit(x_train,y_train)"
      ]
    },
    {
      "cell_type": "code",
      "execution_count": null,
      "id": "b17e6838",
      "metadata": {
        "id": "b17e6838",
        "outputId": "a935821d-6426-4fe3-ac0a-c6410b9a75e5"
      },
      "outputs": [
        {
          "data": {
            "text/plain": [
              "0.8897265958178798"
            ]
          },
          "execution_count": 46,
          "metadata": {},
          "output_type": "execute_result"
        }
      ],
      "source": [
        "lasso.score(x_train,y_train)"
      ]
    },
    {
      "cell_type": "code",
      "execution_count": null,
      "id": "030086ce",
      "metadata": {
        "id": "030086ce",
        "outputId": "8f61ed7b-475f-4325-cba2-19a19d2c1d42"
      },
      "outputs": [
        {
          "data": {
            "text/plain": [
              "0.925874321687798"
            ]
          },
          "execution_count": 47,
          "metadata": {},
          "output_type": "execute_result"
        }
      ],
      "source": [
        "lasso.score(x_test,y_test)"
      ]
    },
    {
      "cell_type": "code",
      "execution_count": null,
      "id": "1ee33a0e",
      "metadata": {
        "id": "1ee33a0e",
        "outputId": "c188c3b4-a5e4-4262-d869-872936f57183"
      },
      "outputs": [
        {
          "data": {
            "text/plain": [
              "0.8839789128497535"
            ]
          },
          "execution_count": 49,
          "metadata": {},
          "output_type": "execute_result"
        }
      ],
      "source": [
        "cross_val_score(lasso,x,y,cv=9).mean()"
      ]
    },
    {
      "cell_type": "code",
      "execution_count": null,
      "id": "7b1e0d73",
      "metadata": {
        "id": "7b1e0d73",
        "outputId": "79681835-9162-4f97-bf99-55d32b8fc6bb"
      },
      "outputs": [
        {
          "data": {
            "text/plain": [
              "array([0.04565331, 0.1871891 ])"
            ]
          },
          "execution_count": 50,
          "metadata": {},
          "output_type": "execute_result"
        }
      ],
      "source": [
        "lasso.coef_"
      ]
    },
    {
      "cell_type": "code",
      "execution_count": null,
      "id": "6ec50643",
      "metadata": {
        "id": "6ec50643"
      },
      "outputs": [],
      "source": [
        "#### Ridge Regression"
      ]
    },
    {
      "cell_type": "code",
      "execution_count": null,
      "id": "9b586341",
      "metadata": {
        "id": "9b586341"
      },
      "outputs": [],
      "source": [
        "from sklearn.linear_model import Ridge"
      ]
    },
    {
      "cell_type": "code",
      "execution_count": null,
      "id": "d215a72a",
      "metadata": {
        "id": "d215a72a"
      },
      "outputs": [],
      "source": [
        "ridge = Ridge()"
      ]
    },
    {
      "cell_type": "code",
      "execution_count": null,
      "id": "13f64ce0",
      "metadata": {
        "id": "13f64ce0"
      },
      "outputs": [],
      "source": [
        "param_grid = {'alpha':[0.01,0.1,0.5,1,2,4,5,20,40,50,100,150,200]}\n",
        "model = GridSearchCV(Ridge(),param_grid,cv=9,scoring = 'neg_mean_squared_error')"
      ]
    },
    {
      "cell_type": "code",
      "execution_count": null,
      "id": "722e8507",
      "metadata": {
        "id": "722e8507",
        "outputId": "adbeb3a9-a46e-4bd8-f4f5-925128f64874"
      },
      "outputs": [
        {
          "data": {
            "text/plain": [
              "GridSearchCV(cv=9, estimator=Ridge(),\n",
              "             param_grid={'alpha': [0.01, 0.1, 0.5, 1, 2, 4, 5, 20, 40, 50, 100,\n",
              "                                   150, 200]},\n",
              "             scoring='neg_mean_squared_error')"
            ]
          },
          "execution_count": 92,
          "metadata": {},
          "output_type": "execute_result"
        }
      ],
      "source": [
        "model.fit(x_train,y_train)"
      ]
    },
    {
      "cell_type": "code",
      "execution_count": null,
      "id": "e64791d3",
      "metadata": {
        "id": "e64791d3",
        "outputId": "7f9ae012-abf3-4704-c24c-3c443678e6cc"
      },
      "outputs": [
        {
          "data": {
            "text/plain": [
              "{'alpha': 200}"
            ]
          },
          "execution_count": 93,
          "metadata": {},
          "output_type": "execute_result"
        }
      ],
      "source": [
        "model.best_params_"
      ]
    },
    {
      "cell_type": "code",
      "execution_count": null,
      "id": "276ffd0b",
      "metadata": {
        "id": "276ffd0b"
      },
      "outputs": [],
      "source": [
        "#### Making Hyper Tune Model"
      ]
    },
    {
      "cell_type": "code",
      "execution_count": null,
      "id": "92db1a61",
      "metadata": {
        "id": "92db1a61"
      },
      "outputs": [],
      "source": [
        "ridge = Ridge(alpha = 200)"
      ]
    },
    {
      "cell_type": "code",
      "execution_count": null,
      "id": "3e51c0b2",
      "metadata": {
        "id": "3e51c0b2",
        "outputId": "92f46ba9-9adf-4f77-ca65-112d47a6733d"
      },
      "outputs": [
        {
          "data": {
            "text/plain": [
              "Ridge(alpha=200)"
            ]
          },
          "execution_count": 95,
          "metadata": {},
          "output_type": "execute_result"
        }
      ],
      "source": [
        "ridge.fit(x_train,y_train)"
      ]
    },
    {
      "cell_type": "code",
      "execution_count": null,
      "id": "9a976a21",
      "metadata": {
        "id": "9a976a21",
        "outputId": "a3668987-96b7-46f4-865d-0f40c6ad4aac"
      },
      "outputs": [
        {
          "data": {
            "text/plain": [
              "0.8897265958178805"
            ]
          },
          "execution_count": 96,
          "metadata": {},
          "output_type": "execute_result"
        }
      ],
      "source": [
        "ridge.score(x_train,y_train)"
      ]
    },
    {
      "cell_type": "code",
      "execution_count": null,
      "id": "578e0dc4",
      "metadata": {
        "id": "578e0dc4",
        "outputId": "a00a55e3-c0da-47bf-9094-a4ef20e070ec"
      },
      "outputs": [
        {
          "data": {
            "text/plain": [
              "0.9258743222735315"
            ]
          },
          "execution_count": 97,
          "metadata": {},
          "output_type": "execute_result"
        }
      ],
      "source": [
        "ridge.score(x_test,y_test)"
      ]
    },
    {
      "cell_type": "code",
      "execution_count": null,
      "id": "69a34e3e",
      "metadata": {
        "id": "69a34e3e",
        "outputId": "8afd1020-ddba-475a-b6a2-dee7a7c17668"
      },
      "outputs": [
        {
          "data": {
            "text/plain": [
              "0.8839789119801255"
            ]
          },
          "execution_count": 65,
          "metadata": {},
          "output_type": "execute_result"
        }
      ],
      "source": [
        "cross_val_score(ridge,x,y,cv=9).mean()"
      ]
    },
    {
      "cell_type": "code",
      "execution_count": null,
      "id": "d03bb448",
      "metadata": {
        "id": "d03bb448"
      },
      "outputs": [],
      "source": [
        "#### Elastic Net Model"
      ]
    },
    {
      "cell_type": "code",
      "execution_count": null,
      "id": "3fb8e59d",
      "metadata": {
        "id": "3fb8e59d"
      },
      "outputs": [],
      "source": [
        "from sklearn.linear_model import ElasticNet"
      ]
    },
    {
      "cell_type": "code",
      "execution_count": null,
      "id": "d81b213a",
      "metadata": {
        "id": "d81b213a"
      },
      "outputs": [],
      "source": [
        "en = ElasticNet()"
      ]
    },
    {
      "cell_type": "code",
      "execution_count": null,
      "id": "dc444511",
      "metadata": {
        "id": "dc444511"
      },
      "outputs": [],
      "source": [
        "param_grid = {'alpha':[0.01,0.1,0.5,1,2,4,5,20,40,50,100,150,200] , 'l1_ratio':[0.01,0.2,0.4,0.6,0.9,1]}\n",
        "model = GridSearchCV(ElasticNet(),param_grid,cv=9,scoring = 'neg_mean_squared_error')"
      ]
    },
    {
      "cell_type": "code",
      "execution_count": null,
      "id": "eb84dcc5",
      "metadata": {
        "id": "eb84dcc5",
        "outputId": "04992a4e-77f3-4ed9-9556-f9d3c6713f77"
      },
      "outputs": [
        {
          "data": {
            "text/plain": [
              "GridSearchCV(cv=9, estimator=ElasticNet(),\n",
              "             param_grid={'alpha': [0.01, 0.1, 0.5, 1, 2, 4, 5, 20, 40, 50, 100,\n",
              "                                   150, 200],\n",
              "                         'l1_ratio': [0.01, 0.2, 0.4, 0.6, 0.9, 1]},\n",
              "             scoring='neg_mean_squared_error')"
            ]
          },
          "execution_count": 102,
          "metadata": {},
          "output_type": "execute_result"
        }
      ],
      "source": [
        "model.fit(x_train,y_train)"
      ]
    },
    {
      "cell_type": "code",
      "execution_count": null,
      "id": "b32e6f81",
      "metadata": {
        "id": "b32e6f81",
        "outputId": "a3a43cd4-8555-428b-b31e-0cc362ba2d80"
      },
      "outputs": [
        {
          "data": {
            "text/plain": [
              "{'alpha': 200, 'l1_ratio': 1}"
            ]
          },
          "execution_count": 103,
          "metadata": {},
          "output_type": "execute_result"
        }
      ],
      "source": [
        "model.best_params_"
      ]
    },
    {
      "cell_type": "code",
      "execution_count": null,
      "id": "93e19e0f",
      "metadata": {
        "id": "93e19e0f",
        "outputId": "58c97b23-9e71-48aa-fcdd-2dfde3d01cb5"
      },
      "outputs": [
        {
          "data": {
            "text/plain": [
              "ElasticNet(alpha=200, l1_ratio=1)"
            ]
          },
          "execution_count": 105,
          "metadata": {},
          "output_type": "execute_result"
        }
      ],
      "source": [
        "en = ElasticNet(alpha=200,l1_ratio = 1)\n",
        "en.fit(x_train,y_train)"
      ]
    },
    {
      "cell_type": "code",
      "execution_count": null,
      "id": "63c19c3c",
      "metadata": {
        "id": "63c19c3c",
        "outputId": "358f8d92-95c8-4136-b77c-ecfcfc75573c"
      },
      "outputs": [
        {
          "data": {
            "text/plain": [
              "0.8897265958108832"
            ]
          },
          "execution_count": 106,
          "metadata": {},
          "output_type": "execute_result"
        }
      ],
      "source": [
        "en.score(x_train,y_train)"
      ]
    },
    {
      "cell_type": "code",
      "execution_count": null,
      "id": "c9b243a2",
      "metadata": {
        "id": "c9b243a2",
        "outputId": "aafa7e7e-f4a4-4533-cc43-044304bfa143"
      },
      "outputs": [
        {
          "data": {
            "text/plain": [
              "0.9258742633797876"
            ]
          },
          "execution_count": 107,
          "metadata": {},
          "output_type": "execute_result"
        }
      ],
      "source": [
        "en.score(x_test,y_test)"
      ]
    },
    {
      "cell_type": "code",
      "execution_count": null,
      "id": "31666445",
      "metadata": {
        "id": "31666445",
        "outputId": "8bcc5d49-3b18-43c3-d0fd-2e5aa632f3e4"
      },
      "outputs": [
        {
          "data": {
            "text/plain": [
              "0.8839789111614276"
            ]
          },
          "execution_count": 109,
          "metadata": {},
          "output_type": "execute_result"
        }
      ],
      "source": [
        "cross_val_score(en,x,y,cv=9).mean()"
      ]
    },
    {
      "cell_type": "code",
      "execution_count": null,
      "id": "ba5276f6",
      "metadata": {
        "id": "ba5276f6"
      },
      "outputs": [],
      "source": [
        "#### Polynomial Regression"
      ]
    },
    {
      "cell_type": "code",
      "execution_count": null,
      "id": "968f9367",
      "metadata": {
        "id": "968f9367"
      },
      "outputs": [],
      "source": [
        "from sklearn.preprocessing import PolynomialFeatures"
      ]
    },
    {
      "cell_type": "code",
      "execution_count": null,
      "id": "2269b75a",
      "metadata": {
        "id": "2269b75a"
      },
      "outputs": [],
      "source": [
        "train=[]\n",
        "test=[]\n",
        "cv=[]\n",
        "for i in range(1,5):\n",
        "    polynomial_converter = PolynomialFeatures(degree = i,include_bias=False)\n",
        "    x_poly = polynomial_converter.fit_transform(x)\n",
        "    x_poly = pd.DataFrame(x_poly)\n",
        "    from sklearn.model_selection import train_test_split\n",
        "    x_train,x_test,y_train,y_test = train_test_split(x_poly,y,test_size=0.2,random_state=9)\n",
        "    from sklearn.linear_model import LinearRegression\n",
        "    lr = LinearRegression()\n",
        "    lr.fit(x_train,y_train)\n",
        "    train.append(lr.score(x_train,y_train))\n",
        "    test.append(lr.score(x_test,y_test))\n",
        "    from sklearn.model_selection import cross_val_score\n",
        "    cv.append(cross_val_score(lr,x_poly,y).mean())"
      ]
    },
    {
      "cell_type": "code",
      "execution_count": null,
      "id": "7f569aaa",
      "metadata": {
        "id": "7f569aaa",
        "outputId": "37b7ae48-7edd-4e04-84b1-162b5125591a"
      },
      "outputs": [
        {
          "data": {
            "text/plain": [
              "[<matplotlib.lines.Line2D at 0x210c6543dc0>]"
            ]
          },
          "execution_count": 130,
          "metadata": {},
          "output_type": "execute_result"
        },
        {
          "data": {
            "image/png": "[encoded data removed]",
            "text/plain": [
              "<Figure size 640x480 with 1 Axes>"
            ]
          },
          "metadata": {},
          "output_type": "display_data"
        }
      ],
      "source": [
        "plt.plot(test)\n",
        "plt.plot(train)\n",
        "plt.plot(cv)"
      ]
    },
    {
      "cell_type": "code",
      "execution_count": null,
      "id": "8a4bfe5e",
      "metadata": {
        "id": "8a4bfe5e"
      },
      "outputs": [],
      "source": [
        "#### Making HyperTune Model with degree 2"
      ]
    },
    {
      "cell_type": "code",
      "execution_count": null,
      "id": "700dee65",
      "metadata": {
        "id": "700dee65",
        "outputId": "b7435ee3-5e5d-4db9-bfe6-507b4e5211e4"
      },
      "outputs": [
        {
          "name": "stdout",
          "output_type": "stream",
          "text": [
            "0.9852938734387028\n",
            "0.9876991194511272\n",
            "0.9847931596676563\n"
          ]
        }
      ],
      "source": [
        "polynomial_converter = PolynomialFeatures(degree = 2,include_bias=False)\n",
        "x_poly = polynomial_converter.fit_transform(x)\n",
        "x_poly = pd.DataFrame(x_poly)\n",
        "from sklearn.model_selection import train_test_split\n",
        "x_train,x_test,y_train,y_test = train_test_split(x_poly,y,test_size=0.2,random_state=9)\n",
        "from sklearn.linear_model import LinearRegression\n",
        "lr = LinearRegression()\n",
        "lr.fit(x_train,y_train)\n",
        "print(lr.score(x_train,y_train))\n",
        "print(lr.score(x_test,y_test))\n",
        "from sklearn.model_selection import cross_val_score\n",
        "print(cross_val_score(lr,x_poly,y).mean())"
      ]
    },
    {
      "cell_type": "code",
      "execution_count": null,
      "id": "c51429c0",
      "metadata": {
        "id": "c51429c0"
      },
      "outputs": [],
      "source": []
    }
  ],
  "metadata": {
    "kernelspec": {
      "display_name": "Python 3 (ipykernel)",
      "language": "python",
      "name": "python3"
    },
    "language_info": {
      "codemirror_mode": {
        "name": "ipython",
        "version": 3
      },
      "file_extension": ".py",
      "mimetype": "text/x-python",
      "name": "python",
      "nbconvert_exporter": "python",
      "pygments_lexer": "ipython3",
      "version": "3.9.13"
    },
    "colab": {
      "provenance": [],
      "include_colab_link": true
    }
  },
  "nbformat": 4,
  "nbformat_minor": 5
}